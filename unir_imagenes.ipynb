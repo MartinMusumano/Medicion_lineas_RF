{
 "cells": [
  {
   "cell_type": "markdown",
   "metadata": {},
   "source": [
    "## Unión de imágenes escaneadas por el SEM"
   ]
  },
  {
   "cell_type": "markdown",
   "metadata": {},
   "source": [
    "Image Stitching Open-CV: "
   ]
  },
  {
   "cell_type": "code",
   "execution_count": 1,
   "metadata": {},
   "outputs": [
    {
     "name": "stdout",
     "output_type": "stream",
     "text": [
      "SURF not available\n"
     ]
    },
    {
     "name": "stdout",
     "output_type": "stream",
     "text": [
      "\u001b[1;31mType:\u001b[0m        module\n",
      "\u001b[1;31mString form:\u001b[0m <module 'stitching_detailed' from 'c:\\\\Users\\\\Admin\\\\Documents\\\\SEM Lineas de Aire\\\\Software\\\\v1.7\\\\stitching_detailed.py'>\n",
      "\u001b[1;31mFile:\u001b[0m        c:\\users\\admin\\documents\\sem lineas de aire\\software\\v1.7\\stitching_detailed.py\n",
      "\u001b[1;31mDocstring:\u001b[0m  \n",
      "Stitching sample (advanced)\n",
      "===========================\n",
      "\n",
      "Show how to use Stitcher API from python.\n",
      "python-opencv > 4.0.1\n",
      "https://docs.opencv.org/4.x/d8/d19/tutorial_stitcher.html\n",
      "https://github.com/opencv/opencv/blob/4.x/samples/python/stitching_detailed.py\n",
      "\n",
      "\n",
      "usage: stitching_detailed.py [-h] [--try_cuda TRY_CUDA]\n",
      "                             [--work_megapix WORK_MEGAPIX]\n",
      "                             [--features {orb,sift,brisk,akaze}]\n",
      "                             [--matcher {homography,affine}]\n",
      "                             [--estimator {homography,affine}]\n",
      "                             [--match_conf MATCH_CONF]\n",
      "                             [--conf_thresh CONF_THRESH]\n",
      "                             [--ba {ray,reproj,affine,no}]\n",
      "                             [--ba_refine_mask BA_REFINE_MASK]\n",
      "                             [--wave_correct {horiz,no,vert}]\n",
      "                             [--save_graph SAVE_GRAPH]\n",
      "                             [--warp {spherical,plane,affine,cylindrical,fisheye,stereographic,compressedPlaneA2B1,compressedPlaneA1.5B1,compressedPlanePortraitA2B1,compressedPlanePortraitA1.5B1,paniniA2B1,paniniA1.5B1,paniniPortraitA2B1,paniniPortraitA1.5B1,mercator,transverseMercator}]\n",
      "                             [--seam_megapix SEAM_MEGAPIX]\n",
      "                             [--seam {gc_color,gc_colorgrad,dp_color,dp_colorgrad,voronoi,no}]\n",
      "                             [--compose_megapix COMPOSE_MEGAPIX]\n",
      "                             [--expos_comp {gain_blocks,gain,channel,channel_blocks,no}]\n",
      "                             [--expos_comp_nr_feeds EXPOS_COMP_NR_FEEDS]\n",
      "                             [--expos_comp_nr_filtering EXPOS_COMP_NR_FILTERING]\n",
      "                             [--expos_comp_block_size EXPOS_COMP_BLOCK_SIZE]\n",
      "                             [--blend {multiband,feather,no}]\n",
      "                             [--blend_strength BLEND_STRENGTH]\n",
      "                             [--output OUTPUT] [--timelapse TIMELAPSE]\n",
      "                             [--rangewidth RANGEWIDTH]\n",
      "                             img_names [img_names ...]\n",
      "\n",
      "Rotation model images stitcher\n",
      "\n",
      "positional arguments:\n",
      "  img_names             Files to stitch\n",
      "\n",
      "options:\n",
      "  -h, --help            show this help message and exit\n",
      "  --try_cuda TRY_CUDA   Try to use CUDA. The default value is no. All default\n",
      "                        values are for CPU mode.\n",
      "  --work_megapix WORK_MEGAPIX\n",
      "                        Resolution for image registration step. The default is\n",
      "                        0.6 Mpx\n",
      "  --features {orb,sift,brisk,akaze}\n",
      "                        Type of features used for images matching. The default\n",
      "                        is 'orb'.\n",
      "  --matcher {homography,affine}\n",
      "                        Matcher used for pairwise image matching. The default\n",
      "                        is 'homography'.\n",
      "  --estimator {homography,affine}\n",
      "                        Type of estimator used for transformation estimation.\n",
      "                        The default is 'homography'.\n",
      "  --match_conf MATCH_CONF\n",
      "                        Confidence for feature matching step. The default is\n",
      "                        0.3 for ORB and 0.65 for other feature types.\n",
      "  --conf_thresh CONF_THRESH\n",
      "                        Threshold for two images are from the same panorama\n",
      "                        confidence.The default is 1.0.\n",
      "  --ba {ray,reproj,affine,no}\n",
      "                        Bundle adjustment cost function. The default is 'ray'.\n",
      "  --ba_refine_mask BA_REFINE_MASK\n",
      "                        Set refinement mask for bundle adjustment. It looks\n",
      "                        like 'x_xxx', where 'x' means refine respective\n",
      "                        parameter and '_' means don't refine, and has the\n",
      "                        following format:<fx><skew><ppx><aspect><ppy>. The\n",
      "                        default mask is 'xxxxx'. If bundle adjustment doesn't\n",
      "                        support estimation of selected parameter then the\n",
      "                        respective flag is ignored.\n",
      "  --wave_correct {horiz,no,vert}\n",
      "                        Perform wave effect correction. The default is 'horiz'\n",
      "  --save_graph SAVE_GRAPH\n",
      "                        Save matches graph represented in DOT language to\n",
      "                        <file_name> file.\n",
      "  --warp {spherical,plane,affine,cylindrical,fisheye,stereographic,compressedPlaneA2B1,compressedPlaneA1.5B1,compressedPlanePortraitA2B1,compressedPlanePortraitA1.5B1,paniniA2B1,paniniA1.5B1,paniniPortraitA2B1,paniniPortraitA1.5B1,mercator,transverseMercator}\n",
      "                        Warp surface type. The default is 'spherical'.\n",
      "  --seam_megapix SEAM_MEGAPIX\n",
      "                        Resolution for seam estimation step. The default is\n",
      "                        0.1 Mpx.\n",
      "  --seam {gc_color,gc_colorgrad,dp_color,dp_colorgrad,voronoi,no}\n",
      "                        Seam estimation method. The default is 'gc_color'.\n",
      "  --compose_megapix COMPOSE_MEGAPIX\n",
      "                        Resolution for compositing step. Use -1 for original\n",
      "                        resolution. The default is -1\n",
      "  --expos_comp {gain_blocks,gain,channel,channel_blocks,no}\n",
      "                        Exposure compensation method. The default is\n",
      "                        'gain_blocks'.\n",
      "  --expos_comp_nr_feeds EXPOS_COMP_NR_FEEDS\n",
      "                        Number of exposure compensation feed.\n",
      "  --expos_comp_nr_filtering EXPOS_COMP_NR_FILTERING\n",
      "                        Number of filtering iterations of the exposure\n",
      "                        compensation gains.\n",
      "  --expos_comp_block_size EXPOS_COMP_BLOCK_SIZE\n",
      "                        BLock size in pixels used by the exposure compensator.\n",
      "                        The default is 32.\n",
      "  --blend {multiband,feather,no}\n",
      "                        Blending method. The default is 'multiband'.\n",
      "  --blend_strength BLEND_STRENGTH\n",
      "                        Blending strength from [0,100] range. The default is 5\n",
      "  --output OUTPUT       The default is 'result.jpg'\n",
      "  --timelapse TIMELAPSE\n",
      "                        Output warped images separately as frames of a time\n",
      "                        lapse movie, with 'fixed_' prepended to input file\n",
      "                        names.\n",
      "  --rangewidth RANGEWIDTH\n",
      "                        uses range_width to limit number of images to match\n",
      "                        with."
     ]
    }
   ],
   "source": [
    "import stitching_detailed\n",
    "stitching_detailed?"
   ]
  },
  {
   "cell_type": "code",
   "execution_count": 1,
   "metadata": {},
   "outputs": [],
   "source": [
    "import subprocess\n",
    "import os\n",
    "from functions import *\n",
    "from tkinter import Tk  \n",
    "from tkinter.filedialog import askopenfilename \n",
    "\n",
    "def sticth_images(path1, path2, output_name=None, conf_thresh = 0.3):\n",
    "    # if not os.path.exists(\".\\stitching_detdailed.py\"):\n",
    "    #     print('Cannot find \".\\stitching_detailed.py\" in the working folder')\n",
    "    #     return\n",
    "\n",
    "    if not output_name:\n",
    "        name1, ext = os.path.splitext(os.path.basename(path1))\n",
    "        name2 = os.path.splitext(os.path.basename(path2))[0]\n",
    "        output_name = 'Binded_' + name1 + '_' + name2 + '.bmp'\n",
    "\n",
    "    return subprocess.run([\"python\", \".\\stitching_detailed.py\", path1, path2, \n",
    "                    \"--features\", \"sift\",\n",
    "                    \"--work_megapix\", \"-1\", \n",
    "                    \"--conf_thresh\", str(conf_thresh), \n",
    "                    \"--matcher\", \"affine\", \n",
    "                    \"--estimator\", \"affine\", \n",
    "                    \"--ba\", \"affine\", \n",
    "                    \"--warp\", \"affine\", \n",
    "                    \"--wave_correct\", \"no\", \n",
    "                    \"--output\", str(output_name)])\n",
    "                    # \"--timelapse\", \"None\"])"
   ]
  },
  {
   "cell_type": "code",
   "execution_count": 2,
   "metadata": {},
   "outputs": [],
   "source": [
    "DIR = f\".\\\\\"     # Directorio base para varias imágenes\n",
    "DIR_SAVE = f\".\\\\\"    # Directorio para guardar resultados\n",
    "\n",
    "root = Tk()\n",
    "root.withdraw()\n",
    "root.call('wm', 'attributes', '.', '-topmost', True)\n",
    "\n",
    "filetypes = [(\"Archivo TIF\", \"*.tif\"), (\"Archivo BMP\", \"*.bmp\"), (\"All files\", \"*.*\")]\n",
    "path = askopenfilename(filetypes=filetypes, title='Seleccione Imagenes', initialdir=DIR, multiple=True)\n",
    "\n",
    "if len(path)!=2:\n",
    "    print(\"Seleccione dos imágenes\")\n",
    "else:\n",
    "    img_name1, img_name2 = path\n",
    "    img1 = cv2.imread(img_name1)\n",
    "    img2 = cv2.imread(img_name2)\n",
    "    show_image(img1, scale_percent=20)\n",
    "    show_image(img2, scale_percent=20)"
   ]
  },
  {
   "cell_type": "code",
   "execution_count": 7,
   "metadata": {},
   "outputs": [
    {
     "data": {
      "text/plain": [
       "CompletedProcess(args=['python', '.\\\\stitching_detailed.py', 'C:/Users/Admin/Documents/SEM Lineas de Aire/Software/v1.6/Imagenes_prueba/Muestra_1_001_alto.tif', 'C:/Users/Admin/Documents/SEM Lineas de Aire/Software/v1.6/Imagenes_prueba/Muestra_1_001_bajo.tif', '--features', 'sift', '--work_megapix', '-1', '--conf_thresh', '0.3', '--matcher', 'affine', '--estimator', 'affine', '--ba', 'affine', '--warp', 'affine', '--wave_correct', 'no', '--output', 'Binded_Muestra_1_001_alto_Muestra_1_001_bajo.bmp'], returncode=0)"
      ]
     },
     "execution_count": 7,
     "metadata": {},
     "output_type": "execute_result"
    }
   ],
   "source": [
    "sticth_images(img_name1, img_name2)"
   ]
  }
 ],
 "metadata": {
  "kernelspec": {
   "display_name": "Python 3",
   "language": "python",
   "name": "python3"
  },
  "language_info": {
   "codemirror_mode": {
    "name": "ipython",
    "version": 3
   },
   "file_extension": ".py",
   "mimetype": "text/x-python",
   "name": "python",
   "nbconvert_exporter": "python",
   "pygments_lexer": "ipython3",
   "version": "3.10.11"
  }
 },
 "nbformat": 4,
 "nbformat_minor": 2
}

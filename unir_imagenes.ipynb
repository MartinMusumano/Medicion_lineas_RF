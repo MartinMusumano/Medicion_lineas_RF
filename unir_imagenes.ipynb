{
 "cells": [
  {
   "cell_type": "markdown",
   "metadata": {},
   "source": [
    "## Unión de imágenes escaneadas por el SEM"
   ]
  },
  {
   "cell_type": "markdown",
   "metadata": {},
   "source": [
    "Image Stitching Open-CV: \n",
    "\n",
    "https://docs.opencv.org/4.x/d8/d19/tutorial_stitcher.html\n",
    "\n",
    "https://github.com/opencv/opencv/blob/4.x/samples/python/stitching_detailed.py"
   ]
  },
  {
   "cell_type": "code",
   "execution_count": null,
   "metadata": {},
   "outputs": [],
   "source": [
    "stitching_detailed"
   ]
  },
  {
   "cell_type": "code",
   "execution_count": 1,
   "metadata": {},
   "outputs": [],
   "source": [
    "import subprocess\n",
    "import os\n",
    "from functions import *\n",
    "from tkinter import Tk  \n",
    "from tkinter.filedialog import askopenfilename \n",
    "\n",
    "def sticth_images(path1, path2, output_name=None, conf_thresh = 0.3):\n",
    "    # if not os.path.exists(\".\\stitching_detdailed.py\"):\n",
    "    #     print('Cannot find \".\\stitching_detailed.py\" in the working folder')\n",
    "    #     return\n",
    "\n",
    "    if not output_name:\n",
    "        name1, ext = os.path.splitext(os.path.basename(path1))\n",
    "        name2 = os.path.splitext(os.path.basename(path2))[0]\n",
    "        output_name = 'Binded_' + name1 + '_' + name2 + '.bmp'\n",
    "\n",
    "    return subprocess.run([\"python\", \".\\stitching_detailed.py\", path1, path2, \n",
    "                    \"--features\", \"sift\",\n",
    "                    \"--work_megapix\", \"-1\", \n",
    "                    \"--conf_thresh\", str(conf_thresh), \n",
    "                    \"--matcher\", \"affine\", \n",
    "                    \"--estimator\", \"affine\", \n",
    "                    \"--ba\", \"affine\", \n",
    "                    \"--warp\", \"affine\", \n",
    "                    \"--wave_correct\", \"no\", \n",
    "                    \"--output\", str(output_name)])\n",
    "                    # \"--timelapse\", \"None\"])"
   ]
  },
  {
   "cell_type": "code",
   "execution_count": 2,
   "metadata": {},
   "outputs": [],
   "source": [
    "DIR = f\".\\\\\"     # Directorio base para varias imágenes\n",
    "DIR_SAVE = f\".\\\\\"    # Directorio para guardar resultados\n",
    "\n",
    "root = Tk()\n",
    "root.withdraw()\n",
    "root.call('wm', 'attributes', '.', '-topmost', True)\n",
    "\n",
    "filetypes = [(\"Archivo TIF\", \"*.tif\"), (\"Archivo BMP\", \"*.bmp\"), (\"All files\", \"*.*\")]\n",
    "path = askopenfilename(filetypes=filetypes, title='Seleccione Imagenes', initialdir=DIR, multiple=True)\n",
    "\n",
    "if len(path)!=2:\n",
    "    print(\"Seleccione dos imágenes\")\n",
    "else:\n",
    "    img_name1, img_name2 = path\n",
    "    img1 = cv2.imread(img_name1)\n",
    "    img2 = cv2.imread(img_name2)\n",
    "    show_image(img1, scale_percent=20)\n",
    "    show_image(img2, scale_percent=20)"
   ]
  },
  {
   "cell_type": "code",
   "execution_count": 7,
   "metadata": {},
   "outputs": [
    {
     "data": {
      "text/plain": [
       "CompletedProcess(args=['python', '.\\\\stitching_detailed.py', 'C:/Users/Admin/Documents/SEM Lineas de Aire/Software/v1.6/Imagenes_prueba/Muestra_1_001_alto.tif', 'C:/Users/Admin/Documents/SEM Lineas de Aire/Software/v1.6/Imagenes_prueba/Muestra_1_001_bajo.tif', '--features', 'sift', '--work_megapix', '-1', '--conf_thresh', '0.3', '--matcher', 'affine', '--estimator', 'affine', '--ba', 'affine', '--warp', 'affine', '--wave_correct', 'no', '--output', 'Binded_Muestra_1_001_alto_Muestra_1_001_bajo.bmp'], returncode=0)"
      ]
     },
     "execution_count": 7,
     "metadata": {},
     "output_type": "execute_result"
    }
   ],
   "source": [
    "sticth_images(img_name1, img_name2)"
   ]
  }
 ],
 "metadata": {
  "kernelspec": {
   "display_name": "Python 3",
   "language": "python",
   "name": "python3"
  },
  "language_info": {
   "codemirror_mode": {
    "name": "ipython",
    "version": 3
   },
   "file_extension": ".py",
   "mimetype": "text/x-python",
   "name": "python",
   "nbconvert_exporter": "python",
   "pygments_lexer": "ipython3",
   "version": "3.10.11"
  }
 },
 "nbformat": 4,
 "nbformat_minor": 2
}
